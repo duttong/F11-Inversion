{
 "cells": [
  {
   "cell_type": "code",
   "execution_count": 1,
   "metadata": {},
   "outputs": [],
   "source": [
    "%matplotlib notebook\n",
    "\n",
    "import datetime\n",
    "import numpy as np\n",
    "import pandas as pd\n",
    "import seaborn as sns\n",
    "import matplotlib.pyplot as plt\n",
    "plt.rcParams['figure.figsize'] = (6.0, 4.0)\n",
    "\n",
    "import load_hats\n",
    "\n",
    "start_day, end_day = '2016-06-01', '2018-05-31'\n",
    "site = 'sum'"
   ]
  },
  {
   "cell_type": "code",
   "execution_count": 8,
   "metadata": {},
   "outputs": [],
   "source": [
    "def read_met(site, yyyy):\n",
    "    met_ftp = f'/aftp/met/{site}/'\n",
    "    met_file = f'met_{site}_insitu_1_obop_hour_{yyyy}.txt'\n",
    "    df = pd.read_csv(met_ftp+met_file, \n",
    "                delim_whitespace=True,\n",
    "                names=['site','year','month','day','hour','wind_dir','wind_speed','wind_steady','press','temp2','temp10','jj','jk','jl'],\n",
    "                parse_dates = {'date':[1,2,3,4]},\n",
    "                infer_datetime_format=True,\n",
    "                index_col='date',\n",
    "                na_values=['-999.9', '-999', '-99', '-99.9']\n",
    "                )\n",
    "    df.drop(['temp2','temp10','jj','jk','jl'], axis=1, inplace=True)\n",
    "    return df"
   ]
  },
  {
   "cell_type": "markdown",
   "metadata": {},
   "source": [
    "<h1>Load NOAA met data"
   ]
  },
  {
   "cell_type": "code",
   "execution_count": 9,
   "metadata": {},
   "outputs": [],
   "source": [
    "dfs = []\n",
    "for y in [2016, 2017, 2018]:\n",
    "    df = read_met(site, y)\n",
    "    dfs.append(df)\n",
    "    \n",
    "met = pd.concat(dfs, axis=0)\n",
    "met = met[start_day:end_day]"
   ]
  },
  {
   "cell_type": "code",
   "execution_count": 10,
   "metadata": {},
   "outputs": [
    {
     "data": {
      "text/html": [
       "<div>\n",
       "<style scoped>\n",
       "    .dataframe tbody tr th:only-of-type {\n",
       "        vertical-align: middle;\n",
       "    }\n",
       "\n",
       "    .dataframe tbody tr th {\n",
       "        vertical-align: top;\n",
       "    }\n",
       "\n",
       "    .dataframe thead th {\n",
       "        text-align: right;\n",
       "    }\n",
       "</style>\n",
       "<table border=\"1\" class=\"dataframe\">\n",
       "  <thead>\n",
       "    <tr style=\"text-align: right;\">\n",
       "      <th></th>\n",
       "      <th>site</th>\n",
       "      <th>wind_dir</th>\n",
       "      <th>wind_speed</th>\n",
       "      <th>wind_steady</th>\n",
       "      <th>press</th>\n",
       "    </tr>\n",
       "    <tr>\n",
       "      <th>date</th>\n",
       "      <th></th>\n",
       "      <th></th>\n",
       "      <th></th>\n",
       "      <th></th>\n",
       "      <th></th>\n",
       "    </tr>\n",
       "  </thead>\n",
       "  <tbody>\n",
       "    <tr>\n",
       "      <th>2016-06-01 00:00:00</th>\n",
       "      <td>SUM</td>\n",
       "      <td>110.0</td>\n",
       "      <td>12.0</td>\n",
       "      <td>100</td>\n",
       "      <td>677.17</td>\n",
       "    </tr>\n",
       "    <tr>\n",
       "      <th>2016-06-01 01:00:00</th>\n",
       "      <td>SUM</td>\n",
       "      <td>118.0</td>\n",
       "      <td>13.9</td>\n",
       "      <td>100</td>\n",
       "      <td>676.52</td>\n",
       "    </tr>\n",
       "    <tr>\n",
       "      <th>2016-06-01 02:00:00</th>\n",
       "      <td>SUM</td>\n",
       "      <td>118.0</td>\n",
       "      <td>14.2</td>\n",
       "      <td>100</td>\n",
       "      <td>675.67</td>\n",
       "    </tr>\n",
       "    <tr>\n",
       "      <th>2016-06-01 03:00:00</th>\n",
       "      <td>SUM</td>\n",
       "      <td>119.0</td>\n",
       "      <td>14.8</td>\n",
       "      <td>100</td>\n",
       "      <td>675.16</td>\n",
       "    </tr>\n",
       "    <tr>\n",
       "      <th>2016-06-01 04:00:00</th>\n",
       "      <td>SUM</td>\n",
       "      <td>120.0</td>\n",
       "      <td>14.5</td>\n",
       "      <td>100</td>\n",
       "      <td>674.58</td>\n",
       "    </tr>\n",
       "  </tbody>\n",
       "</table>\n",
       "</div>"
      ],
      "text/plain": [
       "                    site  wind_dir  wind_speed  wind_steady   press\n",
       "date                                                               \n",
       "2016-06-01 00:00:00  SUM     110.0        12.0          100  677.17\n",
       "2016-06-01 01:00:00  SUM     118.0        13.9          100  676.52\n",
       "2016-06-01 02:00:00  SUM     118.0        14.2          100  675.67\n",
       "2016-06-01 03:00:00  SUM     119.0        14.8          100  675.16\n",
       "2016-06-01 04:00:00  SUM     120.0        14.5          100  674.58"
      ]
     },
     "execution_count": 10,
     "metadata": {},
     "output_type": "execute_result"
    }
   ],
   "source": [
    "met.head()"
   ]
  },
  {
   "cell_type": "markdown",
   "metadata": {},
   "source": [
    "<h1>Load CATS data"
   ]
  },
  {
   "cell_type": "code",
   "execution_count": 5,
   "metadata": {},
   "outputs": [
    {
     "data": {
      "text/html": [
       "<div>\n",
       "<style scoped>\n",
       "    .dataframe tbody tr th:only-of-type {\n",
       "        vertical-align: middle;\n",
       "    }\n",
       "\n",
       "    .dataframe tbody tr th {\n",
       "        vertical-align: top;\n",
       "    }\n",
       "\n",
       "    .dataframe thead th {\n",
       "        text-align: right;\n",
       "    }\n",
       "</style>\n",
       "<table border=\"1\" class=\"dataframe\">\n",
       "  <thead>\n",
       "    <tr style=\"text-align: right;\">\n",
       "      <th></th>\n",
       "      <th>sum_mr</th>\n",
       "      <th>sum_sd</th>\n",
       "    </tr>\n",
       "    <tr>\n",
       "      <th>date</th>\n",
       "      <th></th>\n",
       "      <th></th>\n",
       "    </tr>\n",
       "  </thead>\n",
       "  <tbody>\n",
       "    <tr>\n",
       "      <th>2016-06-01 01:21:00</th>\n",
       "      <td>230.654</td>\n",
       "      <td>1.013</td>\n",
       "    </tr>\n",
       "    <tr>\n",
       "      <th>2016-06-01 02:21:00</th>\n",
       "      <td>230.833</td>\n",
       "      <td>1.012</td>\n",
       "    </tr>\n",
       "    <tr>\n",
       "      <th>2016-06-01 03:21:00</th>\n",
       "      <td>231.293</td>\n",
       "      <td>1.015</td>\n",
       "    </tr>\n",
       "    <tr>\n",
       "      <th>2016-06-01 04:21:00</th>\n",
       "      <td>229.908</td>\n",
       "      <td>1.018</td>\n",
       "    </tr>\n",
       "    <tr>\n",
       "      <th>2016-06-01 05:21:00</th>\n",
       "      <td>230.252</td>\n",
       "      <td>1.018</td>\n",
       "    </tr>\n",
       "  </tbody>\n",
       "</table>\n",
       "</div>"
      ],
      "text/plain": [
       "                      sum_mr  sum_sd\n",
       "date                                \n",
       "2016-06-01 01:21:00  230.654   1.013\n",
       "2016-06-01 02:21:00  230.833   1.012\n",
       "2016-06-01 03:21:00  231.293   1.015\n",
       "2016-06-01 04:21:00  229.908   1.018\n",
       "2016-06-01 05:21:00  230.252   1.018"
      ]
     },
     "execution_count": 5,
     "metadata": {},
     "output_type": "execute_result"
    }
   ],
   "source": [
    "cats = load_hats.CATS_FTP()\n",
    "insitu = cats.hourly('f11', site)\n",
    "insitu = insitu[start_day:end_day].dropna()\n",
    "insitu.head()"
   ]
  },
  {
   "cell_type": "markdown",
   "metadata": {},
   "source": [
    "<h2>Merge dataframes and interpolate wind speed and direction"
   ]
  },
  {
   "cell_type": "code",
   "execution_count": 11,
   "metadata": {},
   "outputs": [
    {
     "data": {
      "text/html": [
       "<div>\n",
       "<style scoped>\n",
       "    .dataframe tbody tr th:only-of-type {\n",
       "        vertical-align: middle;\n",
       "    }\n",
       "\n",
       "    .dataframe tbody tr th {\n",
       "        vertical-align: top;\n",
       "    }\n",
       "\n",
       "    .dataframe thead th {\n",
       "        text-align: right;\n",
       "    }\n",
       "</style>\n",
       "<table border=\"1\" class=\"dataframe\">\n",
       "  <thead>\n",
       "    <tr style=\"text-align: right;\">\n",
       "      <th></th>\n",
       "      <th>sum_mr</th>\n",
       "      <th>sum_sd</th>\n",
       "      <th>wind_dir</th>\n",
       "      <th>wind_speed</th>\n",
       "    </tr>\n",
       "    <tr>\n",
       "      <th>date</th>\n",
       "      <th></th>\n",
       "      <th></th>\n",
       "      <th></th>\n",
       "      <th></th>\n",
       "    </tr>\n",
       "  </thead>\n",
       "  <tbody>\n",
       "    <tr>\n",
       "      <th>2016-06-01 01:21:00</th>\n",
       "      <td>230.654</td>\n",
       "      <td>1.013</td>\n",
       "      <td>118.0</td>\n",
       "      <td>14.05</td>\n",
       "    </tr>\n",
       "    <tr>\n",
       "      <th>2016-06-01 02:21:00</th>\n",
       "      <td>230.833</td>\n",
       "      <td>1.012</td>\n",
       "      <td>118.5</td>\n",
       "      <td>14.50</td>\n",
       "    </tr>\n",
       "    <tr>\n",
       "      <th>2016-06-01 03:21:00</th>\n",
       "      <td>231.293</td>\n",
       "      <td>1.015</td>\n",
       "      <td>119.5</td>\n",
       "      <td>14.65</td>\n",
       "    </tr>\n",
       "    <tr>\n",
       "      <th>2016-06-01 04:21:00</th>\n",
       "      <td>229.908</td>\n",
       "      <td>1.018</td>\n",
       "      <td>123.0</td>\n",
       "      <td>14.30</td>\n",
       "    </tr>\n",
       "    <tr>\n",
       "      <th>2016-06-01 05:21:00</th>\n",
       "      <td>230.252</td>\n",
       "      <td>1.018</td>\n",
       "      <td>129.0</td>\n",
       "      <td>14.00</td>\n",
       "    </tr>\n",
       "  </tbody>\n",
       "</table>\n",
       "</div>"
      ],
      "text/plain": [
       "                      sum_mr  sum_sd  wind_dir  wind_speed\n",
       "date                                                      \n",
       "2016-06-01 01:21:00  230.654   1.013     118.0       14.05\n",
       "2016-06-01 02:21:00  230.833   1.012     118.5       14.50\n",
       "2016-06-01 03:21:00  231.293   1.015     119.5       14.65\n",
       "2016-06-01 04:21:00  229.908   1.018     123.0       14.30\n",
       "2016-06-01 05:21:00  230.252   1.018     129.0       14.00"
      ]
     },
     "execution_count": 11,
     "metadata": {},
     "output_type": "execute_result"
    }
   ],
   "source": [
    "full = pd.concat([insitu, met], axis=1)\n",
    "full['wind_dir'] = full.wind_dir.interpolate()\n",
    "full['wind_speed'] = full.wind_speed.interpolate()\n",
    "full = full.drop(['site', 'wind_steady', 'press'], axis=1).dropna()\n",
    "full.head()"
   ]
  },
  {
   "cell_type": "code",
   "execution_count": 12,
   "metadata": {},
   "outputs": [
    {
     "data": {
      "text/plain": [
       "<matplotlib.legend.Legend at 0x7fe5954edb00>"
      ]
     },
     "execution_count": 12,
     "metadata": {},
     "output_type": "execute_result"
    },
    {
     "data": {
      "image/png": "[encoded data removed]",
      "text/plain": [
       "<Figure size 432x288 with 1 Axes>"
      ]
     },
     "metadata": {
      "needs_background": "light"
     },
     "output_type": "display_data"
    }
   ],
   "source": [
    "full.wind_speed.hist(bins=20, label='full')\n",
    "plt.xlabel('wind speed (m/s)')\n",
    "plt.legend()"
   ]
  },
  {
   "cell_type": "markdown",
   "metadata": {},
   "source": [
    "<h3>Remove low wind speeds less than 3 m/s"
   ]
  },
  {
   "cell_type": "code",
   "execution_count": 24,
   "metadata": {},
   "outputs": [
    {
     "data": {
      "text/plain": [
       "(6970, 4)"
      ]
     },
     "execution_count": 24,
     "metadata": {},
     "output_type": "execute_result"
    }
   ],
   "source": [
    "clean = full.loc[full.wind_speed>3]\n",
    "clean.shape"
   ]
  },
  {
   "cell_type": "code",
   "execution_count": 25,
   "metadata": {},
   "outputs": [
    {
     "data": {
      "text/plain": [
       "Text(0, 0.5, 'CFC-11 (ppt)')"
      ]
     },
     "execution_count": 25,
     "metadata": {},
     "output_type": "execute_result"
    },
    {
     "data": {
      "image/png": "[encoded data removed]",
      "text/plain": [
       "<Figure size 432x288 with 1 Axes>"
      ]
     },
     "metadata": {
      "needs_background": "light"
     },
     "output_type": "display_data"
    }
   ],
   "source": [
    "plt.scatter(full.wind_dir, full.sum_mr, label='full')\n",
    "plt.scatter(clean.wind_dir, clean.sum_mr, label='clean')\n",
    "plt.legend()\n",
    "plt.xlabel('wind dir (degrees)')\n",
    "plt.ylabel('CFC-11 (ppt)')"
   ]
  },
  {
   "cell_type": "code",
   "execution_count": 26,
   "metadata": {},
   "outputs": [
    {
     "data": {
      "text/plain": [
       "<matplotlib.axes._subplots.AxesSubplot at 0x7fe592a067f0>"
      ]
     },
     "execution_count": 26,
     "metadata": {},
     "output_type": "execute_result"
    },
    {
     "data": {
      "image/png": "[encoded data removed]",
      "text/plain": [
       "<Figure size 432x288 with 1 Axes>"
      ]
     },
     "metadata": {
      "needs_background": "light"
     },
     "output_type": "display_data"
    }
   ],
   "source": [
    "clean.sum_mr.plot(marker='o')"
   ]
  },
  {
   "cell_type": "markdown",
   "metadata": {},
   "source": [
    "<h2>Subsample to once a day at 12-14 GMT    "
   ]
  },
  {
   "cell_type": "code",
   "execution_count": 27,
   "metadata": {},
   "outputs": [
    {
     "data": {
      "text/html": [
       "<div>\n",
       "<style scoped>\n",
       "    .dataframe tbody tr th:only-of-type {\n",
       "        vertical-align: middle;\n",
       "    }\n",
       "\n",
       "    .dataframe tbody tr th {\n",
       "        vertical-align: top;\n",
       "    }\n",
       "\n",
       "    .dataframe thead th {\n",
       "        text-align: right;\n",
       "    }\n",
       "</style>\n",
       "<table border=\"1\" class=\"dataframe\">\n",
       "  <thead>\n",
       "    <tr style=\"text-align: right;\">\n",
       "      <th></th>\n",
       "      <th>sum_mr</th>\n",
       "      <th>sum_sd</th>\n",
       "      <th>wind_dir</th>\n",
       "      <th>wind_speed</th>\n",
       "    </tr>\n",
       "    <tr>\n",
       "      <th>date</th>\n",
       "      <th></th>\n",
       "      <th></th>\n",
       "      <th></th>\n",
       "      <th></th>\n",
       "    </tr>\n",
       "  </thead>\n",
       "  <tbody>\n",
       "    <tr>\n",
       "      <th>2016-06-01 01:21:00</th>\n",
       "      <td>230.654</td>\n",
       "      <td>1.013</td>\n",
       "      <td>118.0</td>\n",
       "      <td>14.05</td>\n",
       "    </tr>\n",
       "    <tr>\n",
       "      <th>2016-06-01 02:21:00</th>\n",
       "      <td>230.833</td>\n",
       "      <td>1.012</td>\n",
       "      <td>118.5</td>\n",
       "      <td>14.50</td>\n",
       "    </tr>\n",
       "    <tr>\n",
       "      <th>2016-06-01 03:21:00</th>\n",
       "      <td>231.293</td>\n",
       "      <td>1.015</td>\n",
       "      <td>119.5</td>\n",
       "      <td>14.65</td>\n",
       "    </tr>\n",
       "    <tr>\n",
       "      <th>2016-06-01 04:21:00</th>\n",
       "      <td>229.908</td>\n",
       "      <td>1.018</td>\n",
       "      <td>123.0</td>\n",
       "      <td>14.30</td>\n",
       "    </tr>\n",
       "    <tr>\n",
       "      <th>2016-06-01 05:21:00</th>\n",
       "      <td>230.252</td>\n",
       "      <td>1.018</td>\n",
       "      <td>129.0</td>\n",
       "      <td>14.00</td>\n",
       "    </tr>\n",
       "  </tbody>\n",
       "</table>\n",
       "</div>"
      ],
      "text/plain": [
       "                      sum_mr  sum_sd  wind_dir  wind_speed\n",
       "date                                                      \n",
       "2016-06-01 01:21:00  230.654   1.013     118.0       14.05\n",
       "2016-06-01 02:21:00  230.833   1.012     118.5       14.50\n",
       "2016-06-01 03:21:00  231.293   1.015     119.5       14.65\n",
       "2016-06-01 04:21:00  229.908   1.018     123.0       14.30\n",
       "2016-06-01 05:21:00  230.252   1.018     129.0       14.00"
      ]
     },
     "execution_count": 27,
     "metadata": {},
     "output_type": "execute_result"
    }
   ],
   "source": [
    "clean.head()"
   ]
  },
  {
   "cell_type": "code",
   "execution_count": 28,
   "metadata": {},
   "outputs": [],
   "source": [
    "clean = full.loc[full.wind_speed>3]\n",
    "clean.reset_index(inplace=True)\n",
    "# select hours\n",
    "clean = clean.assign(hh=(clean.date.dt.hour==12)|(clean.date.dt.hour==13))\n",
    "clean = clean.loc[clean.hh==True].drop(['hh'], axis=1)\n",
    "# if two data points, select the first\n",
    "clean = clean.assign(dd=clean.date.diff()>datetime.timedelta(0,4000))\n",
    "clean = clean.loc[clean.dd==True].drop(['dd'], axis=1)\n",
    "clean.set_index(clean.date, inplace=True)\n",
    "clean.drop(['date'], axis=1, inplace=True)"
   ]
  },
  {
   "cell_type": "code",
   "execution_count": 29,
   "metadata": {},
   "outputs": [
    {
     "data": {
      "text/html": [
       "<div>\n",
       "<style scoped>\n",
       "    .dataframe tbody tr th:only-of-type {\n",
       "        vertical-align: middle;\n",
       "    }\n",
       "\n",
       "    .dataframe tbody tr th {\n",
       "        vertical-align: top;\n",
       "    }\n",
       "\n",
       "    .dataframe thead th {\n",
       "        text-align: right;\n",
       "    }\n",
       "</style>\n",
       "<table border=\"1\" class=\"dataframe\">\n",
       "  <thead>\n",
       "    <tr style=\"text-align: right;\">\n",
       "      <th></th>\n",
       "      <th>sum_mr</th>\n",
       "      <th>sum_sd</th>\n",
       "      <th>wind_dir</th>\n",
       "      <th>wind_speed</th>\n",
       "    </tr>\n",
       "    <tr>\n",
       "      <th>date</th>\n",
       "      <th></th>\n",
       "      <th></th>\n",
       "      <th></th>\n",
       "      <th></th>\n",
       "    </tr>\n",
       "  </thead>\n",
       "  <tbody>\n",
       "    <tr>\n",
       "      <th>2016-06-02 12:24:00</th>\n",
       "      <td>231.812</td>\n",
       "      <td>1.026</td>\n",
       "      <td>175.5</td>\n",
       "      <td>8.80</td>\n",
       "    </tr>\n",
       "    <tr>\n",
       "      <th>2016-06-03 12:26:00</th>\n",
       "      <td>231.784</td>\n",
       "      <td>1.003</td>\n",
       "      <td>226.5</td>\n",
       "      <td>12.75</td>\n",
       "    </tr>\n",
       "    <tr>\n",
       "      <th>2016-06-04 12:28:00</th>\n",
       "      <td>231.775</td>\n",
       "      <td>0.943</td>\n",
       "      <td>269.5</td>\n",
       "      <td>5.40</td>\n",
       "    </tr>\n",
       "    <tr>\n",
       "      <th>2016-06-05 12:30:00</th>\n",
       "      <td>231.559</td>\n",
       "      <td>1.044</td>\n",
       "      <td>211.5</td>\n",
       "      <td>6.80</td>\n",
       "    </tr>\n",
       "    <tr>\n",
       "      <th>2016-06-07 12:34:00</th>\n",
       "      <td>229.924</td>\n",
       "      <td>1.134</td>\n",
       "      <td>233.5</td>\n",
       "      <td>3.20</td>\n",
       "    </tr>\n",
       "  </tbody>\n",
       "</table>\n",
       "</div>"
      ],
      "text/plain": [
       "                      sum_mr  sum_sd  wind_dir  wind_speed\n",
       "date                                                      \n",
       "2016-06-02 12:24:00  231.812   1.026     175.5        8.80\n",
       "2016-06-03 12:26:00  231.784   1.003     226.5       12.75\n",
       "2016-06-04 12:28:00  231.775   0.943     269.5        5.40\n",
       "2016-06-05 12:30:00  231.559   1.044     211.5        6.80\n",
       "2016-06-07 12:34:00  229.924   1.134     233.5        3.20"
      ]
     },
     "execution_count": 29,
     "metadata": {},
     "output_type": "execute_result"
    }
   ],
   "source": [
    "clean.head()"
   ]
  },
  {
   "cell_type": "code",
   "execution_count": 22,
   "metadata": {},
   "outputs": [
    {
     "data": {
      "text/plain": [
       "<matplotlib.axes._subplots.AxesSubplot at 0x7fe592b5fb38>"
      ]
     },
     "execution_count": 22,
     "metadata": {},
     "output_type": "execute_result"
    },
    {
     "data": {
      "image/png": "[encoded data removed]",
      "text/plain": [
       "<Figure size 432x288 with 1 Axes>"
      ]
     },
     "metadata": {
      "needs_background": "light"
     },
     "output_type": "display_data"
    }
   ],
   "source": [
    "full.sum_mr.plot(marker='o')\n",
    "clean.sum_mr.plot(marker='o')"
   ]
  },
  {
   "cell_type": "code",
   "execution_count": 30,
   "metadata": {
    "scrolled": true
   },
   "outputs": [
    {
     "name": "stdout",
     "output_type": "stream",
     "text": [
      "Number of measurements full:8281 clean:307\n"
     ]
    }
   ],
   "source": [
    "print(f\"Number of measurements full:{full.shape[0]} clean:{clean.shape[0]}\")"
   ]
  },
  {
   "cell_type": "code",
   "execution_count": null,
   "metadata": {},
   "outputs": [],
   "source": []
  }
 ],
 "metadata": {
  "kernelspec": {
   "display_name": "Python 3",
   "language": "python",
   "name": "python3"
  },
  "language_info": {
   "codemirror_mode": {
    "name": "ipython",
    "version": 3
   },
   "file_extension": ".py",
   "mimetype": "text/x-python",
   "name": "python",
   "nbconvert_exporter": "python",
   "pygments_lexer": "ipython3",
   "version": "3.6.8"
  }
 },
 "nbformat": 4,
 "nbformat_minor": 2
}
