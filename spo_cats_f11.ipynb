{
 "cells": [
  {
   "cell_type": "code",
   "execution_count": 1,
   "metadata": {},
   "outputs": [],
   "source": [
    "%matplotlib notebook\n",
    "\n",
    "import datetime\n",
    "import numpy as np\n",
    "import pandas as pd\n",
    "import seaborn as sns\n",
    "import matplotlib.pyplot as plt\n",
    "plt.rcParams['figure.figsize'] = (6.0, 4.0)\n",
    "\n",
    "import load_hats\n",
    "\n",
    "start_day, end_day = '2016-06-01', '2018-05-31'\n",
    "site = 'spo'"
   ]
  },
  {
   "cell_type": "code",
   "execution_count": 2,
   "metadata": {},
   "outputs": [],
   "source": [
    "def read_met(site, yyyy):\n",
    "    met_ftp = f'/aftp/met/{site}/'\n",
    "    met_file = f'met_{site}_insitu_1_obop_hour_{yyyy}.txt'\n",
    "    df = pd.read_csv(met_ftp+met_file, \n",
    "                delim_whitespace=True,\n",
    "                names=['site','year','month','day','hour','wind_dir','wind_speed','wind_steady','press','temp2','temp10','jj','jk','jl'],\n",
    "                parse_dates = {'date':[1,2,3,4]},\n",
    "                infer_datetime_format=True,\n",
    "                index_col='date',\n",
    "                na_values=['-999.9', '-999', '-99']\n",
    "                )\n",
    "    df.drop(['temp2','temp10','jj','jk','jl'], axis=1, inplace=True)\n",
    "    return df"
   ]
  },
  {
   "cell_type": "markdown",
   "metadata": {},
   "source": [
    "<h1>Load NOAA met data"
   ]
  },
  {
   "cell_type": "code",
   "execution_count": 3,
   "metadata": {},
   "outputs": [],
   "source": [
    "dfs = []\n",
    "for y in [2016, 2017, 2018]:\n",
    "    df = read_met(site, y)\n",
    "    dfs.append(df)\n",
    "    \n",
    "met = pd.concat(dfs, axis=0)\n",
    "met = met[start_day:end_day]"
   ]
  },
  {
   "cell_type": "code",
   "execution_count": 4,
   "metadata": {},
   "outputs": [
    {
     "data": {
      "text/html": [
       "<div>\n",
       "<style scoped>\n",
       "    .dataframe tbody tr th:only-of-type {\n",
       "        vertical-align: middle;\n",
       "    }\n",
       "\n",
       "    .dataframe tbody tr th {\n",
       "        vertical-align: top;\n",
       "    }\n",
       "\n",
       "    .dataframe thead th {\n",
       "        text-align: right;\n",
       "    }\n",
       "</style>\n",
       "<table border=\"1\" class=\"dataframe\">\n",
       "  <thead>\n",
       "    <tr style=\"text-align: right;\">\n",
       "      <th></th>\n",
       "      <th>site</th>\n",
       "      <th>wind_dir</th>\n",
       "      <th>wind_speed</th>\n",
       "      <th>wind_steady</th>\n",
       "      <th>press</th>\n",
       "    </tr>\n",
       "    <tr>\n",
       "      <th>date</th>\n",
       "      <th></th>\n",
       "      <th></th>\n",
       "      <th></th>\n",
       "      <th></th>\n",
       "      <th></th>\n",
       "    </tr>\n",
       "  </thead>\n",
       "  <tbody>\n",
       "    <tr>\n",
       "      <th>2016-06-01 00:00:00</th>\n",
       "      <td>SPO</td>\n",
       "      <td>2.0</td>\n",
       "      <td>8.1</td>\n",
       "      <td>100</td>\n",
       "      <td>668.06</td>\n",
       "    </tr>\n",
       "    <tr>\n",
       "      <th>2016-06-01 01:00:00</th>\n",
       "      <td>SPO</td>\n",
       "      <td>1.0</td>\n",
       "      <td>8.1</td>\n",
       "      <td>100</td>\n",
       "      <td>668.17</td>\n",
       "    </tr>\n",
       "    <tr>\n",
       "      <th>2016-06-01 02:00:00</th>\n",
       "      <td>SPO</td>\n",
       "      <td>3.0</td>\n",
       "      <td>7.5</td>\n",
       "      <td>100</td>\n",
       "      <td>668.26</td>\n",
       "    </tr>\n",
       "    <tr>\n",
       "      <th>2016-06-01 03:00:00</th>\n",
       "      <td>SPO</td>\n",
       "      <td>358.0</td>\n",
       "      <td>7.9</td>\n",
       "      <td>100</td>\n",
       "      <td>668.23</td>\n",
       "    </tr>\n",
       "    <tr>\n",
       "      <th>2016-06-01 04:00:00</th>\n",
       "      <td>SPO</td>\n",
       "      <td>3.0</td>\n",
       "      <td>7.2</td>\n",
       "      <td>100</td>\n",
       "      <td>668.46</td>\n",
       "    </tr>\n",
       "  </tbody>\n",
       "</table>\n",
       "</div>"
      ],
      "text/plain": [
       "                    site  wind_dir  wind_speed  wind_steady   press\n",
       "date                                                               \n",
       "2016-06-01 00:00:00  SPO       2.0         8.1          100  668.06\n",
       "2016-06-01 01:00:00  SPO       1.0         8.1          100  668.17\n",
       "2016-06-01 02:00:00  SPO       3.0         7.5          100  668.26\n",
       "2016-06-01 03:00:00  SPO     358.0         7.9          100  668.23\n",
       "2016-06-01 04:00:00  SPO       3.0         7.2          100  668.46"
      ]
     },
     "execution_count": 4,
     "metadata": {},
     "output_type": "execute_result"
    }
   ],
   "source": [
    "met.head()"
   ]
  },
  {
   "cell_type": "markdown",
   "metadata": {},
   "source": [
    "<h1>Load CATS data"
   ]
  },
  {
   "cell_type": "code",
   "execution_count": 5,
   "metadata": {},
   "outputs": [
    {
     "data": {
      "text/html": [
       "<div>\n",
       "<style scoped>\n",
       "    .dataframe tbody tr th:only-of-type {\n",
       "        vertical-align: middle;\n",
       "    }\n",
       "\n",
       "    .dataframe tbody tr th {\n",
       "        vertical-align: top;\n",
       "    }\n",
       "\n",
       "    .dataframe thead th {\n",
       "        text-align: right;\n",
       "    }\n",
       "</style>\n",
       "<table border=\"1\" class=\"dataframe\">\n",
       "  <thead>\n",
       "    <tr style=\"text-align: right;\">\n",
       "      <th></th>\n",
       "      <th>spo_mr</th>\n",
       "      <th>spo_sd</th>\n",
       "    </tr>\n",
       "    <tr>\n",
       "      <th>date</th>\n",
       "      <th></th>\n",
       "      <th></th>\n",
       "    </tr>\n",
       "  </thead>\n",
       "  <tbody>\n",
       "    <tr>\n",
       "      <th>2016-06-01 00:31:00</th>\n",
       "      <td>227.900</td>\n",
       "      <td>0.255</td>\n",
       "    </tr>\n",
       "    <tr>\n",
       "      <th>2016-06-01 01:32:00</th>\n",
       "      <td>227.254</td>\n",
       "      <td>0.255</td>\n",
       "    </tr>\n",
       "    <tr>\n",
       "      <th>2016-06-01 02:32:00</th>\n",
       "      <td>227.718</td>\n",
       "      <td>0.254</td>\n",
       "    </tr>\n",
       "    <tr>\n",
       "      <th>2016-06-01 03:32:00</th>\n",
       "      <td>227.978</td>\n",
       "      <td>0.254</td>\n",
       "    </tr>\n",
       "    <tr>\n",
       "      <th>2016-06-01 04:32:00</th>\n",
       "      <td>227.415</td>\n",
       "      <td>0.254</td>\n",
       "    </tr>\n",
       "  </tbody>\n",
       "</table>\n",
       "</div>"
      ],
      "text/plain": [
       "                      spo_mr  spo_sd\n",
       "date                                \n",
       "2016-06-01 00:31:00  227.900   0.255\n",
       "2016-06-01 01:32:00  227.254   0.255\n",
       "2016-06-01 02:32:00  227.718   0.254\n",
       "2016-06-01 03:32:00  227.978   0.254\n",
       "2016-06-01 04:32:00  227.415   0.254"
      ]
     },
     "execution_count": 5,
     "metadata": {},
     "output_type": "execute_result"
    }
   ],
   "source": [
    "cats = load_hats.CATS_FTP()\n",
    "insitu = cats.hourly('f11', site)\n",
    "insitu = insitu[start_day:end_day].dropna()\n",
    "insitu.head()"
   ]
  },
  {
   "cell_type": "markdown",
   "metadata": {},
   "source": [
    "<h2>Merge dataframes and interpolate wind speed and direction"
   ]
  },
  {
   "cell_type": "code",
   "execution_count": 6,
   "metadata": {},
   "outputs": [
    {
     "data": {
      "text/html": [
       "<div>\n",
       "<style scoped>\n",
       "    .dataframe tbody tr th:only-of-type {\n",
       "        vertical-align: middle;\n",
       "    }\n",
       "\n",
       "    .dataframe tbody tr th {\n",
       "        vertical-align: top;\n",
       "    }\n",
       "\n",
       "    .dataframe thead th {\n",
       "        text-align: right;\n",
       "    }\n",
       "</style>\n",
       "<table border=\"1\" class=\"dataframe\">\n",
       "  <thead>\n",
       "    <tr style=\"text-align: right;\">\n",
       "      <th></th>\n",
       "      <th>spo_mr</th>\n",
       "      <th>spo_sd</th>\n",
       "      <th>wind_dir</th>\n",
       "      <th>wind_speed</th>\n",
       "    </tr>\n",
       "    <tr>\n",
       "      <th>date</th>\n",
       "      <th></th>\n",
       "      <th></th>\n",
       "      <th></th>\n",
       "      <th></th>\n",
       "    </tr>\n",
       "  </thead>\n",
       "  <tbody>\n",
       "    <tr>\n",
       "      <th>2016-06-01 00:31:00</th>\n",
       "      <td>227.900</td>\n",
       "      <td>0.255</td>\n",
       "      <td>1.5</td>\n",
       "      <td>8.10</td>\n",
       "    </tr>\n",
       "    <tr>\n",
       "      <th>2016-06-01 01:32:00</th>\n",
       "      <td>227.254</td>\n",
       "      <td>0.255</td>\n",
       "      <td>2.0</td>\n",
       "      <td>7.80</td>\n",
       "    </tr>\n",
       "    <tr>\n",
       "      <th>2016-06-01 02:32:00</th>\n",
       "      <td>227.718</td>\n",
       "      <td>0.254</td>\n",
       "      <td>180.5</td>\n",
       "      <td>7.70</td>\n",
       "    </tr>\n",
       "    <tr>\n",
       "      <th>2016-06-01 03:32:00</th>\n",
       "      <td>227.978</td>\n",
       "      <td>0.254</td>\n",
       "      <td>180.5</td>\n",
       "      <td>7.55</td>\n",
       "    </tr>\n",
       "    <tr>\n",
       "      <th>2016-06-01 04:32:00</th>\n",
       "      <td>227.415</td>\n",
       "      <td>0.254</td>\n",
       "      <td>5.5</td>\n",
       "      <td>6.85</td>\n",
       "    </tr>\n",
       "  </tbody>\n",
       "</table>\n",
       "</div>"
      ],
      "text/plain": [
       "                      spo_mr  spo_sd  wind_dir  wind_speed\n",
       "date                                                      \n",
       "2016-06-01 00:31:00  227.900   0.255       1.5        8.10\n",
       "2016-06-01 01:32:00  227.254   0.255       2.0        7.80\n",
       "2016-06-01 02:32:00  227.718   0.254     180.5        7.70\n",
       "2016-06-01 03:32:00  227.978   0.254     180.5        7.55\n",
       "2016-06-01 04:32:00  227.415   0.254       5.5        6.85"
      ]
     },
     "execution_count": 6,
     "metadata": {},
     "output_type": "execute_result"
    }
   ],
   "source": [
    "full = pd.concat([insitu, met], axis=1)\n",
    "full['wind_dir'] = full.wind_dir.interpolate()\n",
    "full['wind_speed'] = full.wind_speed.interpolate()\n",
    "full = full.drop(['site', 'wind_steady', 'press'], axis=1).dropna()\n",
    "full.head()"
   ]
  },
  {
   "cell_type": "code",
   "execution_count": 7,
   "metadata": {},
   "outputs": [
    {
     "data": {
      "text/plain": [
       "<matplotlib.legend.Legend at 0x7f519bee77f0>"
      ]
     },
     "execution_count": 7,
     "metadata": {},
     "output_type": "execute_result"
    },
    {
     "data": {
      "image/png": "[encoded data removed]",
      "text/plain": [
       "<Figure size 432x288 with 1 Axes>"
      ]
     },
     "metadata": {
      "needs_background": "light"
     },
     "output_type": "display_data"
    }
   ],
   "source": [
    "full.wind_speed.hist(bins=20, label='full')\n",
    "plt.xlabel('wind speed (m/s)')\n",
    "plt.legend()"
   ]
  },
  {
   "cell_type": "markdown",
   "metadata": {},
   "source": [
    "<h3>Remove low wind speeds less than 3 m/s"
   ]
  },
  {
   "cell_type": "code",
   "execution_count": 8,
   "metadata": {},
   "outputs": [],
   "source": [
    "clean = full.loc[full.wind_speed>3]"
   ]
  },
  {
   "cell_type": "code",
   "execution_count": 9,
   "metadata": {},
   "outputs": [
    {
     "data": {
      "text/plain": [
       "Text(0, 0.5, 'CFC-11 (ppt)')"
      ]
     },
     "execution_count": 9,
     "metadata": {},
     "output_type": "execute_result"
    },
    {
     "data": {
      "image/png": "[encoded data removed]",
      "text/plain": [
       "<Figure size 432x288 with 1 Axes>"
      ]
     },
     "metadata": {
      "needs_background": "light"
     },
     "output_type": "display_data"
    }
   ],
   "source": [
    "plt.scatter(full.wind_dir, full.spo_mr, label='full')\n",
    "plt.scatter(clean.wind_dir, clean.spo_mr, label='clean')\n",
    "plt.legend()\n",
    "plt.xlabel('wind dir (degrees)')\n",
    "plt.ylabel('CFC-11 (ppt)')"
   ]
  },
  {
   "cell_type": "code",
   "execution_count": 10,
   "metadata": {},
   "outputs": [
    {
     "data": {
      "text/plain": [
       "<matplotlib.axes._subplots.AxesSubplot at 0x7f519c7d4400>"
      ]
     },
     "execution_count": 10,
     "metadata": {},
     "output_type": "execute_result"
    },
    {
     "data": {
      "image/png": "[encoded data removed]",
      "text/plain": [
       "<Figure size 432x288 with 1 Axes>"
      ]
     },
     "metadata": {
      "needs_background": "light"
     },
     "output_type": "display_data"
    }
   ],
   "source": [
    "clean.spo_mr.plot(marker='o')"
   ]
  },
  {
   "cell_type": "markdown",
   "metadata": {},
   "source": [
    "<h2>Subsample to once a day at 12-14 GMT per week"
   ]
  },
  {
   "cell_type": "code",
   "execution_count": 11,
   "metadata": {},
   "outputs": [
    {
     "data": {
      "text/html": [
       "<div>\n",
       "<style scoped>\n",
       "    .dataframe tbody tr th:only-of-type {\n",
       "        vertical-align: middle;\n",
       "    }\n",
       "\n",
       "    .dataframe tbody tr th {\n",
       "        vertical-align: top;\n",
       "    }\n",
       "\n",
       "    .dataframe thead th {\n",
       "        text-align: right;\n",
       "    }\n",
       "</style>\n",
       "<table border=\"1\" class=\"dataframe\">\n",
       "  <thead>\n",
       "    <tr style=\"text-align: right;\">\n",
       "      <th></th>\n",
       "      <th>spo_mr</th>\n",
       "      <th>spo_sd</th>\n",
       "      <th>wind_dir</th>\n",
       "      <th>wind_speed</th>\n",
       "    </tr>\n",
       "    <tr>\n",
       "      <th>date</th>\n",
       "      <th></th>\n",
       "      <th></th>\n",
       "      <th></th>\n",
       "      <th></th>\n",
       "    </tr>\n",
       "  </thead>\n",
       "  <tbody>\n",
       "    <tr>\n",
       "      <th>2016-06-01 00:31:00</th>\n",
       "      <td>227.900</td>\n",
       "      <td>0.255</td>\n",
       "      <td>1.5</td>\n",
       "      <td>8.10</td>\n",
       "    </tr>\n",
       "    <tr>\n",
       "      <th>2016-06-01 01:32:00</th>\n",
       "      <td>227.254</td>\n",
       "      <td>0.255</td>\n",
       "      <td>2.0</td>\n",
       "      <td>7.80</td>\n",
       "    </tr>\n",
       "    <tr>\n",
       "      <th>2016-06-01 02:32:00</th>\n",
       "      <td>227.718</td>\n",
       "      <td>0.254</td>\n",
       "      <td>180.5</td>\n",
       "      <td>7.70</td>\n",
       "    </tr>\n",
       "    <tr>\n",
       "      <th>2016-06-01 03:32:00</th>\n",
       "      <td>227.978</td>\n",
       "      <td>0.254</td>\n",
       "      <td>180.5</td>\n",
       "      <td>7.55</td>\n",
       "    </tr>\n",
       "    <tr>\n",
       "      <th>2016-06-01 04:32:00</th>\n",
       "      <td>227.415</td>\n",
       "      <td>0.254</td>\n",
       "      <td>5.5</td>\n",
       "      <td>6.85</td>\n",
       "    </tr>\n",
       "  </tbody>\n",
       "</table>\n",
       "</div>"
      ],
      "text/plain": [
       "                      spo_mr  spo_sd  wind_dir  wind_speed\n",
       "date                                                      \n",
       "2016-06-01 00:31:00  227.900   0.255       1.5        8.10\n",
       "2016-06-01 01:32:00  227.254   0.255       2.0        7.80\n",
       "2016-06-01 02:32:00  227.718   0.254     180.5        7.70\n",
       "2016-06-01 03:32:00  227.978   0.254     180.5        7.55\n",
       "2016-06-01 04:32:00  227.415   0.254       5.5        6.85"
      ]
     },
     "execution_count": 11,
     "metadata": {},
     "output_type": "execute_result"
    }
   ],
   "source": [
    "clean.head()"
   ]
  },
  {
   "cell_type": "code",
   "execution_count": 41,
   "metadata": {},
   "outputs": [],
   "source": [
    "clean = full.loc[full.wind_speed>3]\n",
    "clean.reset_index(inplace=True)\n",
    "# select hours and weekday\n",
    "clean = clean.assign(hh=(clean.date.dt.hour==12)|(clean.date.dt.hour==13))\n",
    "clean = clean.assign(week=(clean.date.dt.weekday_name == 'Sunday'))\n",
    "clean = clean.loc[(clean.hh==True)&(clean.week==True)]"
   ]
  },
  {
   "cell_type": "code",
   "execution_count": 42,
   "metadata": {},
   "outputs": [],
   "source": [
    "# if two data points, select the first\n",
    "clean = clean.assign(dd=clean.date.diff()>datetime.timedelta(0,4000))\n",
    "clean = clean.loc[clean.dd==True].drop(['dd'], axis=1)\n",
    "clean.set_index(clean.date, inplace=True)\n",
    "clean.drop(['hh','week','date'], axis=1, inplace=True)"
   ]
  },
  {
   "cell_type": "code",
   "execution_count": 43,
   "metadata": {},
   "outputs": [
    {
     "data": {
      "text/html": [
       "<div>\n",
       "<style scoped>\n",
       "    .dataframe tbody tr th:only-of-type {\n",
       "        vertical-align: middle;\n",
       "    }\n",
       "\n",
       "    .dataframe tbody tr th {\n",
       "        vertical-align: top;\n",
       "    }\n",
       "\n",
       "    .dataframe thead th {\n",
       "        text-align: right;\n",
       "    }\n",
       "</style>\n",
       "<table border=\"1\" class=\"dataframe\">\n",
       "  <thead>\n",
       "    <tr style=\"text-align: right;\">\n",
       "      <th></th>\n",
       "      <th>spo_mr</th>\n",
       "      <th>spo_sd</th>\n",
       "      <th>wind_dir</th>\n",
       "      <th>wind_speed</th>\n",
       "    </tr>\n",
       "    <tr>\n",
       "      <th>date</th>\n",
       "      <th></th>\n",
       "      <th></th>\n",
       "      <th></th>\n",
       "      <th></th>\n",
       "    </tr>\n",
       "  </thead>\n",
       "  <tbody>\n",
       "    <tr>\n",
       "      <th>2016-06-12 12:08:00</th>\n",
       "      <td>227.352</td>\n",
       "      <td>0.282</td>\n",
       "      <td>248.0</td>\n",
       "      <td>5.25</td>\n",
       "    </tr>\n",
       "    <tr>\n",
       "      <th>2016-06-19 12:50:00</th>\n",
       "      <td>227.324</td>\n",
       "      <td>0.213</td>\n",
       "      <td>328.0</td>\n",
       "      <td>4.50</td>\n",
       "    </tr>\n",
       "    <tr>\n",
       "      <th>2016-06-26 12:31:00</th>\n",
       "      <td>227.704</td>\n",
       "      <td>0.213</td>\n",
       "      <td>47.0</td>\n",
       "      <td>7.10</td>\n",
       "    </tr>\n",
       "    <tr>\n",
       "      <th>2016-07-03 12:13:00</th>\n",
       "      <td>227.216</td>\n",
       "      <td>0.191</td>\n",
       "      <td>93.0</td>\n",
       "      <td>5.70</td>\n",
       "    </tr>\n",
       "    <tr>\n",
       "      <th>2016-07-17 12:23:00</th>\n",
       "      <td>227.568</td>\n",
       "      <td>0.259</td>\n",
       "      <td>18.5</td>\n",
       "      <td>7.50</td>\n",
       "    </tr>\n",
       "  </tbody>\n",
       "</table>\n",
       "</div>"
      ],
      "text/plain": [
       "                      spo_mr  spo_sd  wind_dir  wind_speed\n",
       "date                                                      \n",
       "2016-06-12 12:08:00  227.352   0.282     248.0        5.25\n",
       "2016-06-19 12:50:00  227.324   0.213     328.0        4.50\n",
       "2016-06-26 12:31:00  227.704   0.213      47.0        7.10\n",
       "2016-07-03 12:13:00  227.216   0.191      93.0        5.70\n",
       "2016-07-17 12:23:00  227.568   0.259      18.5        7.50"
      ]
     },
     "execution_count": 43,
     "metadata": {},
     "output_type": "execute_result"
    }
   ],
   "source": [
    "clean.head()"
   ]
  },
  {
   "cell_type": "code",
   "execution_count": 44,
   "metadata": {},
   "outputs": [
    {
     "data": {
      "text/plain": [
       "<matplotlib.axes._subplots.AxesSubplot at 0x7f51c6cccac8>"
      ]
     },
     "execution_count": 44,
     "metadata": {},
     "output_type": "execute_result"
    },
    {
     "data": {
      "image/png": "[encoded data removed]",
      "text/plain": [
       "<Figure size 432x288 with 1 Axes>"
      ]
     },
     "metadata": {
      "needs_background": "light"
     },
     "output_type": "display_data"
    }
   ],
   "source": [
    "full.spo_mr.plot(marker='o')\n",
    "clean.spo_mr.plot(marker='o')"
   ]
  },
  {
   "cell_type": "code",
   "execution_count": 45,
   "metadata": {
    "scrolled": true
   },
   "outputs": [
    {
     "name": "stdout",
     "output_type": "stream",
     "text": [
      "Number of measurements full:10831 clean:77\n"
     ]
    }
   ],
   "source": [
    "print(f\"Number of measurements full:{full.shape[0]} clean:{clean.shape[0]}\")"
   ]
  },
  {
   "cell_type": "code",
   "execution_count": 46,
   "metadata": {},
   "outputs": [],
   "source": [
    "clean.to_csv('spo-clean.csv')"
   ]
  },
  {
   "cell_type": "code",
   "execution_count": null,
   "metadata": {},
   "outputs": [],
   "source": []
  }
 ],
 "metadata": {
  "kernelspec": {
   "display_name": "Python 3",
   "language": "python",
   "name": "python3"
  },
  "language_info": {
   "codemirror_mode": {
    "name": "ipython",
    "version": 3
   },
   "file_extension": ".py",
   "mimetype": "text/x-python",
   "name": "python",
   "nbconvert_exporter": "python",
   "pygments_lexer": "ipython3",
   "version": "3.6.8"
  }
 },
 "nbformat": 4,
 "nbformat_minor": 2
}
