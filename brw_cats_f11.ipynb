{
 "cells": [
  {
   "cell_type": "code",
   "execution_count": 1,
   "metadata": {},
   "outputs": [],
   "source": [
    "%matplotlib notebook\n",
    "\n",
    "import datetime\n",
    "import math\n",
    "import numpy as np\n",
    "import pandas as pd\n",
    "import seaborn as sns\n",
    "import matplotlib.pyplot as plt\n",
    "plt.rcParams['figure.figsize'] = (6.0, 4.0)\n",
    "\n",
    "import load_hats\n",
    "\n",
    "start_day, end_day = '2016-06-01', '2018-05-31'"
   ]
  },
  {
   "cell_type": "code",
   "execution_count": 2,
   "metadata": {},
   "outputs": [],
   "source": [
    "def read_met(site, yyyy):\n",
    "    met_ftp = f'/aftp/met/{site}/'\n",
    "    met_file = f'met_{site}_insitu_1_obop_hour_{yyyy}.txt'\n",
    "    df = pd.read_csv(met_ftp+met_file, \n",
    "                delim_whitespace=True,\n",
    "                names=['site','year','month','day','hour','wind_dir','wind_speed','wind_steady','press','temp2','temp10','jj','jk','jl'],\n",
    "                parse_dates = {'date':[1,2,3,4]},\n",
    "                infer_datetime_format=True,\n",
    "                index_col='date',\n",
    "                na_values=['-999.9', '-999', '-99']\n",
    "                )\n",
    "    df.drop(['temp2','temp10','jj','jk','jl'], axis=1, inplace=True)\n",
    "    return df"
   ]
  },
  {
   "cell_type": "markdown",
   "metadata": {},
   "source": [
    "<h1>Load NOAA met data"
   ]
  },
  {
   "cell_type": "code",
   "execution_count": 3,
   "metadata": {},
   "outputs": [],
   "source": [
    "dfs = []\n",
    "for y in [2016, 2017, 2018]:\n",
    "    df = read_met('brw', y)\n",
    "    dfs.append(df)\n",
    "met = pd.concat(dfs, axis=0)\n",
    "met = met[start_day:end_day]"
   ]
  },
  {
   "cell_type": "code",
   "execution_count": 4,
   "metadata": {},
   "outputs": [
    {
     "data": {
      "text/html": [
       "<div>\n",
       "<style scoped>\n",
       "    .dataframe tbody tr th:only-of-type {\n",
       "        vertical-align: middle;\n",
       "    }\n",
       "\n",
       "    .dataframe tbody tr th {\n",
       "        vertical-align: top;\n",
       "    }\n",
       "\n",
       "    .dataframe thead th {\n",
       "        text-align: right;\n",
       "    }\n",
       "</style>\n",
       "<table border=\"1\" class=\"dataframe\">\n",
       "  <thead>\n",
       "    <tr style=\"text-align: right;\">\n",
       "      <th></th>\n",
       "      <th>site</th>\n",
       "      <th>wind_dir</th>\n",
       "      <th>wind_speed</th>\n",
       "      <th>wind_steady</th>\n",
       "      <th>press</th>\n",
       "    </tr>\n",
       "    <tr>\n",
       "      <th>date</th>\n",
       "      <th></th>\n",
       "      <th></th>\n",
       "      <th></th>\n",
       "      <th></th>\n",
       "      <th></th>\n",
       "    </tr>\n",
       "  </thead>\n",
       "  <tbody>\n",
       "    <tr>\n",
       "      <th>2016-06-01 00:00:00</th>\n",
       "      <td>BRW</td>\n",
       "      <td>53.0</td>\n",
       "      <td>7.2</td>\n",
       "      <td>100</td>\n",
       "      <td>1019.75</td>\n",
       "    </tr>\n",
       "    <tr>\n",
       "      <th>2016-06-01 01:00:00</th>\n",
       "      <td>BRW</td>\n",
       "      <td>49.0</td>\n",
       "      <td>6.5</td>\n",
       "      <td>100</td>\n",
       "      <td>1019.52</td>\n",
       "    </tr>\n",
       "    <tr>\n",
       "      <th>2016-06-01 02:00:00</th>\n",
       "      <td>BRW</td>\n",
       "      <td>48.0</td>\n",
       "      <td>6.6</td>\n",
       "      <td>99</td>\n",
       "      <td>1019.26</td>\n",
       "    </tr>\n",
       "    <tr>\n",
       "      <th>2016-06-01 03:00:00</th>\n",
       "      <td>BRW</td>\n",
       "      <td>46.0</td>\n",
       "      <td>6.3</td>\n",
       "      <td>99</td>\n",
       "      <td>1018.96</td>\n",
       "    </tr>\n",
       "    <tr>\n",
       "      <th>2016-06-01 04:00:00</th>\n",
       "      <td>BRW</td>\n",
       "      <td>45.0</td>\n",
       "      <td>6.1</td>\n",
       "      <td>99</td>\n",
       "      <td>1018.74</td>\n",
       "    </tr>\n",
       "  </tbody>\n",
       "</table>\n",
       "</div>"
      ],
      "text/plain": [
       "                    site  wind_dir  wind_speed  wind_steady    press\n",
       "date                                                                \n",
       "2016-06-01 00:00:00  BRW      53.0         7.2          100  1019.75\n",
       "2016-06-01 01:00:00  BRW      49.0         6.5          100  1019.52\n",
       "2016-06-01 02:00:00  BRW      48.0         6.6           99  1019.26\n",
       "2016-06-01 03:00:00  BRW      46.0         6.3           99  1018.96\n",
       "2016-06-01 04:00:00  BRW      45.0         6.1           99  1018.74"
      ]
     },
     "execution_count": 4,
     "metadata": {},
     "output_type": "execute_result"
    }
   ],
   "source": [
    "met.head()"
   ]
  },
  {
   "cell_type": "markdown",
   "metadata": {},
   "source": [
    "<h1>Load CATS data"
   ]
  },
  {
   "cell_type": "code",
   "execution_count": 5,
   "metadata": {},
   "outputs": [],
   "source": [
    "cats = load_hats.CATS_FTP()\n",
    "brw = cats.hourly('f11', 'brw')\n",
    "brw = brw[start_day:end_day].dropna()"
   ]
  },
  {
   "cell_type": "code",
   "execution_count": 6,
   "metadata": {},
   "outputs": [
    {
     "data": {
      "text/html": [
       "<div>\n",
       "<style scoped>\n",
       "    .dataframe tbody tr th:only-of-type {\n",
       "        vertical-align: middle;\n",
       "    }\n",
       "\n",
       "    .dataframe tbody tr th {\n",
       "        vertical-align: top;\n",
       "    }\n",
       "\n",
       "    .dataframe thead th {\n",
       "        text-align: right;\n",
       "    }\n",
       "</style>\n",
       "<table border=\"1\" class=\"dataframe\">\n",
       "  <thead>\n",
       "    <tr style=\"text-align: right;\">\n",
       "      <th></th>\n",
       "      <th>brw_mr</th>\n",
       "      <th>brw_sd</th>\n",
       "    </tr>\n",
       "    <tr>\n",
       "      <th>date</th>\n",
       "      <th></th>\n",
       "      <th></th>\n",
       "    </tr>\n",
       "  </thead>\n",
       "  <tbody>\n",
       "    <tr>\n",
       "      <th>2016-06-01 00:08:00</th>\n",
       "      <td>231.187</td>\n",
       "      <td>0.462</td>\n",
       "    </tr>\n",
       "    <tr>\n",
       "      <th>2016-06-01 01:08:00</th>\n",
       "      <td>231.163</td>\n",
       "      <td>0.464</td>\n",
       "    </tr>\n",
       "    <tr>\n",
       "      <th>2016-06-01 02:08:00</th>\n",
       "      <td>231.474</td>\n",
       "      <td>0.464</td>\n",
       "    </tr>\n",
       "    <tr>\n",
       "      <th>2016-06-01 03:08:00</th>\n",
       "      <td>231.268</td>\n",
       "      <td>0.464</td>\n",
       "    </tr>\n",
       "    <tr>\n",
       "      <th>2016-06-01 04:08:00</th>\n",
       "      <td>231.179</td>\n",
       "      <td>0.465</td>\n",
       "    </tr>\n",
       "  </tbody>\n",
       "</table>\n",
       "</div>"
      ],
      "text/plain": [
       "                      brw_mr  brw_sd\n",
       "date                                \n",
       "2016-06-01 00:08:00  231.187   0.462\n",
       "2016-06-01 01:08:00  231.163   0.464\n",
       "2016-06-01 02:08:00  231.474   0.464\n",
       "2016-06-01 03:08:00  231.268   0.464\n",
       "2016-06-01 04:08:00  231.179   0.465"
      ]
     },
     "execution_count": 6,
     "metadata": {},
     "output_type": "execute_result"
    }
   ],
   "source": [
    "brw.head()"
   ]
  },
  {
   "cell_type": "markdown",
   "metadata": {},
   "source": [
    "<h2>Merge dataframes and interpolate wind speed and direction"
   ]
  },
  {
   "cell_type": "code",
   "execution_count": 7,
   "metadata": {},
   "outputs": [
    {
     "data": {
      "text/html": [
       "<div>\n",
       "<style scoped>\n",
       "    .dataframe tbody tr th:only-of-type {\n",
       "        vertical-align: middle;\n",
       "    }\n",
       "\n",
       "    .dataframe tbody tr th {\n",
       "        vertical-align: top;\n",
       "    }\n",
       "\n",
       "    .dataframe thead th {\n",
       "        text-align: right;\n",
       "    }\n",
       "</style>\n",
       "<table border=\"1\" class=\"dataframe\">\n",
       "  <thead>\n",
       "    <tr style=\"text-align: right;\">\n",
       "      <th></th>\n",
       "      <th>brw_mr</th>\n",
       "      <th>brw_sd</th>\n",
       "      <th>wind_dir</th>\n",
       "      <th>wind_speed</th>\n",
       "    </tr>\n",
       "    <tr>\n",
       "      <th>date</th>\n",
       "      <th></th>\n",
       "      <th></th>\n",
       "      <th></th>\n",
       "      <th></th>\n",
       "    </tr>\n",
       "  </thead>\n",
       "  <tbody>\n",
       "    <tr>\n",
       "      <th>2016-06-01 00:08:00</th>\n",
       "      <td>231.187</td>\n",
       "      <td>0.462</td>\n",
       "      <td>51.0</td>\n",
       "      <td>6.85</td>\n",
       "    </tr>\n",
       "    <tr>\n",
       "      <th>2016-06-01 01:08:00</th>\n",
       "      <td>231.163</td>\n",
       "      <td>0.464</td>\n",
       "      <td>48.5</td>\n",
       "      <td>6.55</td>\n",
       "    </tr>\n",
       "    <tr>\n",
       "      <th>2016-06-01 02:08:00</th>\n",
       "      <td>231.474</td>\n",
       "      <td>0.464</td>\n",
       "      <td>47.0</td>\n",
       "      <td>6.45</td>\n",
       "    </tr>\n",
       "    <tr>\n",
       "      <th>2016-06-01 03:08:00</th>\n",
       "      <td>231.268</td>\n",
       "      <td>0.464</td>\n",
       "      <td>45.5</td>\n",
       "      <td>6.20</td>\n",
       "    </tr>\n",
       "    <tr>\n",
       "      <th>2016-06-01 04:08:00</th>\n",
       "      <td>231.179</td>\n",
       "      <td>0.465</td>\n",
       "      <td>44.5</td>\n",
       "      <td>5.80</td>\n",
       "    </tr>\n",
       "  </tbody>\n",
       "</table>\n",
       "</div>"
      ],
      "text/plain": [
       "                      brw_mr  brw_sd  wind_dir  wind_speed\n",
       "date                                                      \n",
       "2016-06-01 00:08:00  231.187   0.462      51.0        6.85\n",
       "2016-06-01 01:08:00  231.163   0.464      48.5        6.55\n",
       "2016-06-01 02:08:00  231.474   0.464      47.0        6.45\n",
       "2016-06-01 03:08:00  231.268   0.464      45.5        6.20\n",
       "2016-06-01 04:08:00  231.179   0.465      44.5        5.80"
      ]
     },
     "execution_count": 7,
     "metadata": {},
     "output_type": "execute_result"
    }
   ],
   "source": [
    "full = pd.concat([brw, met], axis=1)\n",
    "full['wind_dir'] = full.wind_dir.interpolate()\n",
    "full['wind_speed'] = full.wind_speed.interpolate()\n",
    "full = full.drop(['site', 'wind_steady', 'press'], axis=1).dropna()\n",
    "full.head()"
   ]
  },
  {
   "cell_type": "markdown",
   "metadata": {},
   "source": [
    "<h3>The Barrow clean air sector is between 10 and 130 degrees."
   ]
  },
  {
   "cell_type": "code",
   "execution_count": 8,
   "metadata": {},
   "outputs": [],
   "source": [
    "clean = full.loc[(full.wind_dir>10)&(full.wind_dir<130)]"
   ]
  },
  {
   "cell_type": "code",
   "execution_count": 9,
   "metadata": {},
   "outputs": [
    {
     "data": {
      "text/plain": [
       "<matplotlib.legend.Legend at 0x7fb8dceb6780>"
      ]
     },
     "execution_count": 9,
     "metadata": {},
     "output_type": "execute_result"
    },
    {
     "data": {
      "image/png": "[encoded data removed]",
      "text/plain": [
       "<Figure size 432x288 with 1 Axes>"
      ]
     },
     "metadata": {
      "needs_background": "light"
     },
     "output_type": "display_data"
    }
   ],
   "source": [
    "full.wind_speed.hist(bins=20, label='full')\n",
    "clean.wind_speed.hist(bins=20, label='clean air sector')\n",
    "plt.xlabel('wind speed (m/s)')\n",
    "plt.legend()"
   ]
  },
  {
   "cell_type": "markdown",
   "metadata": {},
   "source": [
    "<h3>Remove low wind speeds less than 3 m/s"
   ]
  },
  {
   "cell_type": "code",
   "execution_count": 10,
   "metadata": {},
   "outputs": [],
   "source": [
    "clean = clean.loc[clean.wind_speed>3]"
   ]
  },
  {
   "cell_type": "code",
   "execution_count": 11,
   "metadata": {},
   "outputs": [
    {
     "data": {
      "text/plain": [
       "Text(0, 0.5, 'CFC-11 (ppt)')"
      ]
     },
     "execution_count": 11,
     "metadata": {},
     "output_type": "execute_result"
    },
    {
     "data": {
      "image/png": "[encoded data removed]",
      "text/plain": [
       "<Figure size 432x288 with 1 Axes>"
      ]
     },
     "metadata": {
      "needs_background": "light"
     },
     "output_type": "display_data"
    }
   ],
   "source": [
    "plt.scatter(full.wind_dir, full.brw_mr, label='full')\n",
    "plt.scatter(clean.wind_dir, clean.brw_mr, label='clean')\n",
    "plt.legend()\n",
    "plt.xlabel('wind dir (degrees)')\n",
    "plt.ylabel('CFC-11 (ppt)')"
   ]
  },
  {
   "cell_type": "code",
   "execution_count": 12,
   "metadata": {},
   "outputs": [
    {
     "data": {
      "text/plain": [
       "<matplotlib.axes._subplots.AxesSubplot at 0x7fb8dd7925c0>"
      ]
     },
     "execution_count": 12,
     "metadata": {},
     "output_type": "execute_result"
    },
    {
     "data": {
      "image/png": "[encoded data removed]",
      "text/plain": [
       "<Figure size 432x288 with 1 Axes>"
      ]
     },
     "metadata": {
      "needs_background": "light"
     },
     "output_type": "display_data"
    }
   ],
   "source": [
    "clean.brw_mr.plot(marker='o')"
   ]
  },
  {
   "cell_type": "code",
   "execution_count": 13,
   "metadata": {},
   "outputs": [
    {
     "name": "stdout",
     "output_type": "stream",
     "text": [
      "Number of measurements full:16175 clean:7725\n"
     ]
    }
   ],
   "source": [
    "print(f\"Number of measurements full:{full.shape[0]} clean:{clean.shape[0]}\")"
   ]
  },
  {
   "cell_type": "markdown",
   "metadata": {},
   "source": [
    "<h2>Select Sunday data between 8-10 GMT or 0-2 local"
   ]
  },
  {
   "cell_type": "code",
   "execution_count": 20,
   "metadata": {},
   "outputs": [],
   "source": [
    "clean2 = clean.loc[full.wind_speed>3]\n",
    "clean2.reset_index(inplace=True)\n",
    "# select hours and weekday\n",
    "clean2 = clean2.assign(hh=(clean2.date.dt.hour==8)|(clean2.date.dt.hour==9))\n",
    "clean2 = clean2.assign(week=(clean2.date.dt.weekday_name == 'Sunday'))\n",
    "clean2 = clean2.loc[(clean2.hh==True)&(clean2.week==True)]\n",
    "\n",
    "# if more than one data point, select the first\n",
    "clean2 = clean2.assign(dd=clean2.date.diff()>datetime.timedelta(0,4000))\n",
    "clean2 = clean2.loc[clean2.dd==True]\n",
    "clean2.set_index(clean2.date, inplace=True)\n",
    "clean2.drop(['hh','dd','week','date'], axis=1, inplace=True)"
   ]
  },
  {
   "cell_type": "code",
   "execution_count": 21,
   "metadata": {},
   "outputs": [
    {
     "data": {
      "text/plain": [
       "<matplotlib.axes._subplots.AxesSubplot at 0x7fb8dd6be0f0>"
      ]
     },
     "execution_count": 21,
     "metadata": {},
     "output_type": "execute_result"
    },
    {
     "data": {
      "image/png": "[encoded data removed]",
      "text/plain": [
       "<Figure size 432x288 with 1 Axes>"
      ]
     },
     "metadata": {
      "needs_background": "light"
     },
     "output_type": "display_data"
    }
   ],
   "source": [
    "clean.brw_mr.plot(marker='o')\n",
    "clean2.brw_mr.plot(marker='o')"
   ]
  },
  {
   "cell_type": "code",
   "execution_count": 22,
   "metadata": {},
   "outputs": [
    {
     "name": "stdout",
     "output_type": "stream",
     "text": [
      "Number of measurements full:16175 clean:7725 clean2:52\n"
     ]
    }
   ],
   "source": [
    "print(f\"Number of measurements full:{full.shape[0]} clean:{clean.shape[0]} clean2:{clean2.shape[0]}\")"
   ]
  },
  {
   "cell_type": "code",
   "execution_count": 23,
   "metadata": {},
   "outputs": [],
   "source": [
    "full.to_csv('brw-full.csv')\n",
    "clean.to_csv('brw-clean.csv')\n",
    "clean2.to_csv('brw-clean-sunday.csv')"
   ]
  }
 ],
 "metadata": {
  "kernelspec": {
   "display_name": "Python 3",
   "language": "python",
   "name": "python3"
  },
  "language_info": {
   "codemirror_mode": {
    "name": "ipython",
    "version": 3
   },
   "file_extension": ".py",
   "mimetype": "text/x-python",
   "name": "python",
   "nbconvert_exporter": "python",
   "pygments_lexer": "ipython3",
   "version": "3.6.8"
  }
 },
 "nbformat": 4,
 "nbformat_minor": 2
}
